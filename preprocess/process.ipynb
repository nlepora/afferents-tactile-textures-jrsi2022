{
 "cells": [
  {
   "cell_type": "markdown",
   "metadata": {},
   "source": [
    "# Process tactile image data\n",
    "* processed tactile data saved into two arrays:\n",
    "*        firing_SA and firing_RA of shape (n_samples, n_pins*n_pins)\n",
    "* accompanied with third array giving the pin locations in the array\n",
    "*        pins of shape (n_pins*2, 2) giving their locations\n",
    "* n_pins is number of pins along side of square array (here 19)\n",
    "* values of the SA and FA firing rates from module afferent_response.py\n",
    "* overall, the processing is iterated as a list over the data sets \n",
    "*        speeds (10 sets)\n",
    "*        textures (13 sets)\n",
    "\n",
    "To run, first edit dir_data to path where data stored."
   ]
  },
  {
   "cell_type": "code",
   "execution_count": 1,
   "metadata": {},
   "outputs": [],
   "source": [
    "import os, json, pickle\n",
    "import numpy as np\n",
    "from afferent_response import AfferentResponse as ar\n",
    "\n",
    "def save_obj(obj, name ):\n",
    "    with open(name + '.pkl', 'wb') as f:\n",
    "        pickle.dump(obj, f, pickle.HIGHEST_PROTOCOL)"
   ]
  },
  {
   "cell_type": "code",
   "execution_count": 2,
   "metadata": {},
   "outputs": [],
   "source": [
    "dir_data = os.environ[\"DATAPATH\"] + r\"/open/afferents-tactile-textures-jrsi2022\"\n",
    "\n",
    "speeds = ['10','20','30','40','50','60','70','80','90','100']\n",
    "textures = ['0','0.5','1','1.5','2','2.5','3','3.5','4','4.5','5','5.5','6']\n",
    "\n",
    "n_speeds = len(speeds)\n",
    "n_textures = len(textures)\n",
    "\n",
    "with open(\"tip_params/tipB\", \"r\") as read_file:\n",
    "    tip_params = json.load(read_file)"
   ]
  },
  {
   "cell_type": "code",
   "execution_count": 3,
   "metadata": {},
   "outputs": [
    {
     "name": "stdout",
     "output_type": "stream",
     "text": [
      "n_pins=361\n",
      "0/13 1/13 2/13 3/13 4/13 5/13 6/13 7/13 8/13 9/13 10/13 11/13 12/13 "
     ]
    }
   ],
   "source": [
    "afferents = ar(False, **tip_params)\n",
    "pins_init = afferents.init_pins(dir_data + rf\"/0/10/throw_away.mp4\")\n",
    "print(f\"n_pins={len(pins_init)}\")\n",
    "\n",
    "firing_SA, firing_RA, pins = [[] for _ in range(3)]\n",
    "for i in range(n_textures):\n",
    "    print(f'{i}/{n_textures}', end=' ')\n",
    "\n",
    "    firing_SA_j, firing_RA_j, pins_j = [[] for _ in range(3)]\n",
    "    for j in range(n_speeds):\n",
    "        firing = afferents.firing(dir_data + rf\"/{textures[i]}/{speeds[j]}/video.mp4\", pins_init)\n",
    "    \n",
    "        firing_SA_j.append(np.stack([firing[0][f'{k}'] for k in range(len(firing[0]))]))\n",
    "        firing_RA_j.append(np.stack([firing[1][f'{k}'] for k in range(len(firing[1]))]))\n",
    "        pins_j.append(firing[2])\n",
    "  \n",
    "    firing_SA.append(firing_SA_j) \n",
    "    firing_RA.append(firing_RA_j) \n",
    "    pins.append(pins_j)\n",
    "\n",
    "os.makedirs(dir_data + rf\"/processed\", exist_ok=True)\n",
    "\n",
    "save_obj(firing_SA, dir_data + r\"/processed/firing_SA\")\n",
    "save_obj(firing_RA, dir_data + r\"/processed/firing_RA\")\n",
    "save_obj(pins, dir_data + r\"/processed/pins\")"
   ]
  },
  {
   "cell_type": "markdown",
   "metadata": {},
   "source": []
  }
 ],
 "metadata": {
  "kernelspec": {
   "display_name": "Python 3",
   "language": "python",
   "name": "python3"
  },
  "language_info": {
   "codemirror_mode": {
    "name": "ipython",
    "version": 3
   },
   "file_extension": ".py",
   "mimetype": "text/x-python",
   "name": "python",
   "nbconvert_exporter": "python",
   "pygments_lexer": "ipython3",
   "version": "3.7.7"
  }
 },
 "nbformat": 4,
 "nbformat_minor": 4
}
